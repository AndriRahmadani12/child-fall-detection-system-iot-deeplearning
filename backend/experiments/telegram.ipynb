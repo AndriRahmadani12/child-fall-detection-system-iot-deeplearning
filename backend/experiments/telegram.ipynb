{
 "cells": [
  {
   "cell_type": "code",
   "execution_count": null,
   "metadata": {},
   "outputs": [
    {
     "ename": "",
     "evalue": "",
     "output_type": "error",
     "traceback": [
      "\u001b[1;31mThe Kernel crashed while executing code in the current cell or a previous cell. \n",
      "\u001b[1;31mPlease review the code in the cell(s) to identify a possible cause of the failure. \n",
      "\u001b[1;31mClick <a href='https://aka.ms/vscodeJupyterKernelCrash'>here</a> for more info. \n",
      "\u001b[1;31mView Jupyter <a href='command:jupyter.viewOutput'>log</a> for further details."
     ]
    }
   ],
   "source": [
    "import requests\n",
    "\n",
    "TOKEN = \"7393109138:AAH4t1OfWQwYXQJihAuhrEEiYTf_DKGILds\"\n",
    "CHAT_ID = \"-4797772163\"\n",
    "\n",
    "def send_telegram_message(message):\n",
    "    \"\"\"Mengirim pesan ke Telegram.\"\"\"\n",
    "    url = f\"https://api.telegram.org/bot{TOKEN}/sendMessage\"\n",
    "    payload = {\"chat_id\": CHAT_ID, \"text\": message}\n",
    "    requests.post(url, json=payload)\n",
    "\n",
    "# Simulasi pembacaan sensor\n",
    "def sensor_detected_fall():\n",
    "    \"\"\"Fungsi ini harus diganti dengan sensor asli (misal accelerometer).\"\"\"\n",
    "    # Simulasi: True jika jatuh terdeteksi\n",
    "    return True  \n",
    "\n",
    "if __name__ == \"__main__\":\n",
    "    if sensor_detected_fall():\n",
    "        send_telegram_message(\"⚠️ ALERT! Kaspul jatuh terdeteksi!\")\n"
   ]
  },
  {
   "cell_type": "code",
   "execution_count": 1,
   "metadata": {},
   "outputs": [
    {
     "name": "stdout",
     "output_type": "stream",
     "text": [
      "Requirement already satisfied: requests in d:\\portfolio\\child-fall-detection-system-iot-deeplearning\\venv\\lib\\site-packages (2.32.3)\n",
      "Requirement already satisfied: urllib3<3,>=1.21.1 in d:\\portfolio\\child-fall-detection-system-iot-deeplearning\\venv\\lib\\site-packages (from requests) (2.3.0)\n",
      "Requirement already satisfied: idna<4,>=2.5 in d:\\portfolio\\child-fall-detection-system-iot-deeplearning\\venv\\lib\\site-packages (from requests) (3.10)\n",
      "Requirement already satisfied: charset-normalizer<4,>=2 in d:\\portfolio\\child-fall-detection-system-iot-deeplearning\\venv\\lib\\site-packages (from requests) (3.4.1)\n",
      "Requirement already satisfied: certifi>=2017.4.17 in d:\\portfolio\\child-fall-detection-system-iot-deeplearning\\venv\\lib\\site-packages (from requests) (2025.1.31)\n",
      "Note: you may need to restart the kernel to use updated packages.\n"
     ]
    },
    {
     "name": "stderr",
     "output_type": "stream",
     "text": [
      "WARNING: You are using pip version 20.2.3; however, version 25.0.1 is available.\n",
      "You should consider upgrading via the 'd:\\Portfolio\\child-fall-detection-system-iot-deeplearning\\venv\\Scripts\\python.exe -m pip install --upgrade pip' command.\n"
     ]
    }
   ],
   "source": [
    "%pip install requests"
   ]
  },
  {
   "cell_type": "code",
   "execution_count": null,
   "metadata": {},
   "outputs": [],
   "source": []
  }
 ],
 "metadata": {
  "kernelspec": {
   "display_name": "venv",
   "language": "python",
   "name": "python3"
  },
  "language_info": {
   "codemirror_mode": {
    "name": "ipython",
    "version": 3
   },
   "file_extension": ".py",
   "mimetype": "text/x-python",
   "name": "python",
   "nbconvert_exporter": "python",
   "pygments_lexer": "ipython3",
   "version": "3.9.0"
  }
 },
 "nbformat": 4,
 "nbformat_minor": 2
}
